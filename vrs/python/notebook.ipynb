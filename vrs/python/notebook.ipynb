{
 "cells": [
  {
   "cell_type": "code",
   "execution_count": 2,
   "id": "722a027d-efd6-467a-b8a8-1403e10e21f1",
   "metadata": {},
   "outputs": [
    {
     "data": {
      "text/plain": [
       "True"
      ]
     },
     "execution_count": 2,
     "metadata": {},
     "output_type": "execute_result"
    }
   ],
   "source": [
    "import os\n",
    "import time\n",
    "import math\n",
    "from datetime import datetime\n",
    "from typing import Dict, Optional\n",
    "import pickle\n",
    "import blpapi\n",
    "from copy import deepcopy\n",
    "import flatbuffers\n",
    "from BlpConn.Message import HeadlineCalendarEvent\n",
    "from BlpConn.Message import HeadlineEconomicEvent\n",
    "from BlpConn.Message.EventType import EventType\n",
    "from defs import *\n",
    "from dotenv import load_dotenv\n",
    "load_dotenv()"
   ]
  },
  {
   "cell_type": "code",
   "execution_count": 3,
   "id": "f0c71642-0fc5-4494-a01b-d87034cfc203",
   "metadata": {},
   "outputs": [],
   "source": [
    "service = \"//blp/economic-data\""
   ]
  },
  {
   "cell_type": "code",
   "execution_count": 4,
   "id": "e60e59c4-290a-4d2d-9649-0ee9a91cb009",
   "metadata": {},
   "outputs": [],
   "source": [
    "client_cert_path = os.environ[\"CLIENT_CERTIFICATE\"]\n",
    "client_cert_password = os.environ[\"PASSWORD\"]\n",
    "root_cert_path = os.environ[\"ROOT_CERTIFICATE\"]"
   ]
  },
  {
   "cell_type": "code",
   "execution_count": 5,
   "id": "b7bc5e98-c382-40ea-b774-f554731b386b",
   "metadata": {},
   "outputs": [],
   "source": [
    "tls_options = blpapi.TlsOptions.createFromFiles(\n",
    "    client_cert_path,\n",
    "    client_cert_password,\n",
    "    root_cert_path\n",
    ")"
   ]
  },
  {
   "cell_type": "code",
   "execution_count": 6,
   "id": "cd153e44-6a40-4b92-a35f-5fc3bd202059",
   "metadata": {},
   "outputs": [],
   "source": [
    "host_primary = os.environ[\"PRIMARY_HOST\"]\n",
    "host_secondary = os.environ[\"SECONDARY_HOST\"]\n",
    "port = int(os.environ[\"PORT\"])"
   ]
  },
  {
   "cell_type": "code",
   "execution_count": 7,
   "id": "8f1f45bc-17bc-49a1-b4da-c174f1cb3126",
   "metadata": {},
   "outputs": [],
   "source": [
    "session_options = blpapi.SessionOptions()\n",
    "session_options.setServerAddress(host_primary, port, 0)\n",
    "session_options.setServerAddress(host_secondary, port, 0)\n",
    "session_options.setTlsOptions(tls_options)\n",
    "session_options.setAutoRestartOnDisconnection(True)\n",
    "session_options.setNumStartAttempts(3)\n",
    "session_options.setDefaultSubscriptionService(service)"
   ]
  },
  {
   "cell_type": "code",
   "execution_count": 8,
   "id": "63b5ca1d-5dd2-4b97-9e72-985a31272c0f",
   "metadata": {},
   "outputs": [
    {
     "data": {
      "text/plain": [
       "True"
      ]
     },
     "execution_count": 8,
     "metadata": {},
     "output_type": "execute_result"
    }
   ],
   "source": [
    "session = blpapi.Session(session_options)\n",
    "session.start()"
   ]
  },
  {
   "cell_type": "code",
   "execution_count": 10,
   "id": "bbafb0da-67c6-49e6-b53e-78ffc7a7ce0d",
   "metadata": {},
   "outputs": [
    {
     "data": {
      "text/plain": [
       "True"
      ]
     },
     "execution_count": 10,
     "metadata": {},
     "output_type": "execute_result"
    }
   ],
   "source": [
    "session.openService(service)"
   ]
  },
  {
   "cell_type": "code",
   "execution_count": 11,
   "id": "df136cfa-4109-49f3-89d0-2987a519806a",
   "metadata": {},
   "outputs": [],
   "source": [
    "sub = blpapi.SubscriptionList()\n",
    "sub.add(\"//blp/economic-data/headline-actuals/ticker/CATBTOTB Index\")\n",
    "# sub.add(\"//blp/economic-data/headline-surveys/ticker/CATBTOTB Index\")\n",
    "sub.add(\"//blp/economic-data/release-calendar/ticker/INJCJC Index\")\n",
    "corr_id = session.subscribe(sub)"
   ]
  },
  {
   "cell_type": "code",
   "execution_count": 20,
   "id": "499a7751-cd1b-4d98-9828-85eb7be51d0c",
   "metadata": {},
   "outputs": [
    {
     "name": "stdout",
     "output_type": "stream",
     "text": [
      "CID: {[ valueType=AUTOGEN classId=0 value=3 ]}\n",
      "Heartbeat = {\n",
      "}\n",
      "\n"
     ]
    }
   ],
   "source": [
    "event = session.nextEvent()\n",
    "messages = [msg for msg in event]\n",
    "print(messages[0])"
   ]
  },
  {
   "cell_type": "code",
   "execution_count": 21,
   "id": "9cb72f1e",
   "metadata": {},
   "outputs": [
    {
     "name": "stdout",
     "output_type": "stream",
     "text": [
      "CID: {[ valueType=AUTOGEN classId=0 value=3 ]}\n",
      "Heartbeat = {\n",
      "}\n",
      "\n"
     ]
    }
   ],
   "source": [
    "print(messages[0])"
   ]
  },
  {
   "cell_type": "code",
   "execution_count": null,
   "id": "c2abe99b",
   "metadata": {},
   "outputs": [],
   "source": [
    "def getStringValue(elem: blpapi.Element, name: str) -> str:\n",
    "    if not elem.hasElement(name):\n",
    "        return \"\"\n",
    "    this = elem.getElement(name)\n",
    "    return this.getValueAsString()"
   ]
  },
  {
   "cell_type": "code",
   "execution_count": 24,
   "id": "a0a3ecdb",
   "metadata": {},
   "outputs": [],
   "source": [
    "def getReleaseDT(elem: blpapi.Element, name: str):\n",
    "    if not elem.hasElement(name):\n",
    "        return None, None\n",
    "    sub_elem = elem.getElement(name)\n",
    "    choice = sub_elem.getChoice()\n",
    "    if choice.name() == \"DATETIME\":\n",
    "        start = choice.getValueAsDatetime()\n",
    "        return start, start\n",
    "    elif choice.name() == \"DATE\":\n",
    "        start = choice.getValueAsDatetime()\n",
    "        return start, start\n",
    "    elif choice.name() == \"DATARANGE\":\n",
    "        start = choice.getElement(\"START\").getValueAsDatetime()\n",
    "        end = choice.getElement(\"END\").getValueAsDatetime()\n",
    "        return start, end\n",
    "    return None, None\n",
    "    \n"
   ]
  },
  {
   "cell_type": "code",
   "execution_count": 25,
   "id": "5844e3f8",
   "metadata": {},
   "outputs": [],
   "source": [
    "def getFloatFromString(elem: blpapi.Element, name: str) -> float:\n",
    "    s = getStringValue(elem, name)\n",
    "    try:\n",
    "        return float(s)\n",
    "    except ValueError:\n",
    "        return math.nan\n",
    "\n",
    "def getIntFromString(elem: blpapi.Element, name: str) -> int:\n",
    "    s = getStringValue(elem, name)\n",
    "    try:\n",
    "        return int(s)\n",
    "    except ValueError:\n",
    "        return 0\n",
    "\n",
    "def getValue(elem: blpapi.Element, name: str) -> Value:\n",
    "    if not elem.hasElement(name):\n",
    "        return None\n",
    "    sub_elem = elem.getElement(name)\n",
    "    choice = sub_elem.getChoice()\n",
    "    value = Value()\n",
    "    if choice.name() == \"SINGLE\":\n",
    "        value.number = 1\n",
    "        s = choice.getValueAsString()\n",
    "        try:\n",
    "            value.value = float(s)\n",
    "        except ValueError:\n",
    "            value.value = math.nan\n",
    "        return value\n",
    "    elif choice.name() == \"DISTRIBUTION\":\n",
    "        value.number = getIntFromString(choice, \"NUMBER\")\n",
    "        value.average = getFloatFromString(choice, \"AVERAGE\")\n",
    "        value.low = getFloatFromString(choice, \"LOW\")\n",
    "        value.high = getFloatFromString(choice, \"HIGH\")\n",
    "        value.median = getFloatFromString(choice, \"MEDIAN\")\n",
    "        value.standard_deviation = getFloatFromString(choice, \"STANDARD_DEVIATION\")\n",
    "        return value\n",
    "    return None\n",
    "\n"
   ]
  },
  {
   "cell_type": "code",
   "execution_count": 26,
   "id": "0c133c16",
   "metadata": {},
   "outputs": [
    {
     "name": "stdout",
     "output_type": "stream",
     "text": [
      "EconomicEvent = {\n",
      "    HeadlineCalendarEvent = {\n",
      "        ID_BB_GLOBAL = \"BBG002SBQKM3\"\n",
      "        PARSEKYABLE_DES = \"INJCJC Index\"\n",
      "        DESCRIPTION = \"US Initial Jobless Claims SA\"\n",
      "        EVENT_TYPE = CALENDAR\n",
      "        EVENT_SUBTYPE = INITPAINT\n",
      "        EVENT_ID = 2151207\n",
      "        OBSERVATION_PERIOD = \"May 3\"\n",
      "        ECO_RELEASE_DT = {\n",
      "            DATETIME = 2025-05-08T12:30:00.000+00:00\n",
      "        }\n",
      "        RELEASE_STATUS = SCHEDULED\n",
      "    }\n",
      "}\n",
      "\n"
     ]
    }
   ],
   "source": [
    "elem = messages[0].asElement()\n",
    "print(elem)"
   ]
  },
  {
   "cell_type": "code",
   "execution_count": 27,
   "id": "3312e2f1",
   "metadata": {},
   "outputs": [],
   "source": [
    "def parseHeadlineEconomicEvent(elem: blpapi.Element) -> HeadlineEconomicEvent:\n",
    "    message = HeadlineEconomicEvent(\n",
    "        id_bb_global=getStringValue(elem, \"ID_BB_GLOBAL\"),\n",
    "        parsekyable_des=getStringValue(elem, \"PARSEKYABLE_DES\")\n",
    "    )\n",
    "    message.description = getStringValue(elem, \"DESCRIPTION\")\n",
    "    message.event_type = getStringValue(elem, \"EVENT_TYPE\")\n",
    "    message.event_subtype = getStringValue(elem, \"EVENT_SUBTYPE\")\n",
    "    message.event_id = getStringValue(elem, \"EVENT_ID\")\n",
    "    message.observation_period = getStringValue(elem, \"OBSERVATION_PERIOD\")\n",
    "    message.release_start_dt, message.release_end_dt = getReleaseDT(elem, \"ECO_RELEASE_DT\")\n",
    "    message.value = getValue(elem, \"VALUE\")\n",
    "    message.prior_value = getValue(elem, \"PRIOR_VALUE\")\n",
    "    message.prior_economic_release_start_dt, message.prior_economic_release_end_dt = getReleaseDT(elem, \"PRIOR_ECONOMIC_RELEASE_DT\")\n",
    "    message.prior_observation_period = getStringValue(elem, \"PRIOR_OBSERVATION_PERIOD\")\n",
    "    message.prior_event_id = getStringValue(elem, \"PRIOR_EVENT_ID\")\n",
    "    return message"
   ]
  },
  {
   "cell_type": "code",
   "execution_count": 28,
   "id": "ad8eccca",
   "metadata": {},
   "outputs": [
    {
     "ename": "InvalidArgumentException",
     "evalue": "Choice sub-element not found for name 'HeadlineEconomicEvent'. (0x00020002)",
     "output_type": "error",
     "traceback": [
      "\u001b[31m---------------------------------------------------------------------------\u001b[39m",
      "\u001b[31mInvalidArgumentException\u001b[39m                  Traceback (most recent call last)",
      "\u001b[36mCell\u001b[39m\u001b[36m \u001b[39m\u001b[32mIn[28]\u001b[39m\u001b[32m, line 1\u001b[39m\n\u001b[32m----> \u001b[39m\u001b[32m1\u001b[39m message = parseHeadlineEconomicEvent(\u001b[43melem\u001b[49m\u001b[43m.\u001b[49m\u001b[43mgetElement\u001b[49m\u001b[43m(\u001b[49m\u001b[33;43m\"\u001b[39;49m\u001b[33;43mHeadlineEconomicEvent\u001b[39;49m\u001b[33;43m\"\u001b[39;49m\u001b[43m)\u001b[49m)\n\u001b[32m      2\u001b[39m \u001b[38;5;28mprint\u001b[39m(message)\n",
      "\u001b[36mFile \u001b[39m\u001b[32m~/devel/li/bloomberg-geco-connector/vrs/python/.venv/lib/python3.11/site-packages/blpapi/element.py:665\u001b[39m, in \u001b[36mElement.getElement\u001b[39m\u001b[34m(self, nameOrIndex)\u001b[39m\n\u001b[32m    661\u001b[39m     name = getNamePair(nameOrIndex)\n\u001b[32m    662\u001b[39m     res = internals.blpapi_Element_getElement(\n\u001b[32m    663\u001b[39m         \u001b[38;5;28mself\u001b[39m._handle(), name[\u001b[32m0\u001b[39m], name[\u001b[32m1\u001b[39m]\n\u001b[32m    664\u001b[39m     )\n\u001b[32m--> \u001b[39m\u001b[32m665\u001b[39m     \u001b[43m_ExceptionUtil\u001b[49m\u001b[43m.\u001b[49m\u001b[43mraiseOnError\u001b[49m\u001b[43m(\u001b[49m\u001b[43mres\u001b[49m\u001b[43m[\u001b[49m\u001b[32;43m0\u001b[39;49m\u001b[43m]\u001b[49m\u001b[43m)\u001b[49m\n\u001b[32m    666\u001b[39m     \u001b[38;5;28;01mreturn\u001b[39;00m Element(res[\u001b[32m1\u001b[39m], \u001b[38;5;28mself\u001b[39m._getDataHolder())\n\u001b[32m    667\u001b[39m \u001b[38;5;28mself\u001b[39m.__assertIsValid()\n",
      "\u001b[36mFile \u001b[39m\u001b[32m~/devel/li/bloomberg-geco-connector/vrs/python/.venv/lib/python3.11/site-packages/blpapi/exception.py:151\u001b[39m, in \u001b[36m_ExceptionUtil.raiseOnError\u001b[39m\u001b[34m(errorCode, description)\u001b[39m\n\u001b[32m    147\u001b[39m \u001b[38;5;250m\u001b[39m\u001b[33;03m\"\"\"Throw the appropriate exception for the specified 'errorCode' if the\u001b[39;00m\n\u001b[32m    148\u001b[39m \u001b[33;03m'errorCode != 0'.\u001b[39;00m\n\u001b[32m    149\u001b[39m \u001b[33;03m\"\"\"\u001b[39;00m\n\u001b[32m    150\u001b[39m \u001b[38;5;28;01mif\u001b[39;00m errorCode:\n\u001b[32m--> \u001b[39m\u001b[32m151\u001b[39m     \u001b[43m_ExceptionUtil\u001b[49m\u001b[43m.\u001b[49m\u001b[43mraiseException\u001b[49m\u001b[43m(\u001b[49m\u001b[43merrorCode\u001b[49m\u001b[43m,\u001b[49m\u001b[43m \u001b[49m\u001b[43mdescription\u001b[49m\u001b[43m)\u001b[49m\n",
      "\u001b[36mFile \u001b[39m\u001b[32m~/devel/li/bloomberg-geco-connector/vrs/python/.venv/lib/python3.11/site-packages/blpapi/exception.py:141\u001b[39m, in \u001b[36m_ExceptionUtil.raiseException\u001b[39m\u001b[34m(errorCode, description)\u001b[39m\n\u001b[32m    139\u001b[39m         description = \u001b[33m\"\u001b[39m\u001b[33mUnknown\u001b[39m\u001b[33m\"\u001b[39m\n\u001b[32m    140\u001b[39m errorClass = _ExceptionUtil.__getErrorClass(errorCode)\n\u001b[32m--> \u001b[39m\u001b[32m141\u001b[39m \u001b[38;5;28;01mraise\u001b[39;00m errorClass(description, errorCode)\n",
      "\u001b[31mInvalidArgumentException\u001b[39m: Choice sub-element not found for name 'HeadlineEconomicEvent'. (0x00020002)"
     ]
    }
   ],
   "source": [
    "message = parseHeadlineEconomicEvent(elem.getElement(\"HeadlineEconomicEvent\"))\n",
    "print(message)"
   ]
  },
  {
   "cell_type": "code",
   "execution_count": 34,
   "id": "4d753db3",
   "metadata": {},
   "outputs": [],
   "source": [
    "def parseHeadlineCalendarEvent(elem: blpapi.Element) -> HeadlineCalendarEvent:\n",
    "    message = HeadlineCalendarEvent(\n",
    "        id_bb_global=getStringValue(elem, \"ID_BB_GLOBAL\"),\n",
    "        parsekyable_des=getStringValue(elem, \"PARSEKYABLE_DES\")\n",
    "    )\n",
    "    message.description = getStringValue(elem, \"DESCRIPTION\")\n",
    "    message.event_type = getStringValue(elem, \"EVENT_TYPE\")\n",
    "    message.event_subtype = getStringValue(elem, \"EVENT_SUBTYPE\")\n",
    "    message.event_id = getStringValue(elem, \"EVENT_ID\")\n",
    "    message.observation_period = getStringValue(elem, \"OBSERVATION_PERIOD\")\n",
    "    message.release_start_dt, message.release_end_dt = getReleaseDT(elem, \"ECO_RELEASE_DT\")\n",
    "    message.release_status = getStringValue(elem, \"RELEASE_STATUS\")\n",
    "    return message"
   ]
  },
  {
   "cell_type": "code",
   "execution_count": 35,
   "id": "fa6c829e",
   "metadata": {},
   "outputs": [
    {
     "name": "stdout",
     "output_type": "stream",
     "text": [
      "HeadlineCalendarEvent(id_bb_global='BBG002SBQKM3', parsekyable_des='INJCJC Index', description='US Initial Jobless Claims SA', event_type='CALENDAR', event_subtype='INITPAINT', event_id='2151207', observation_period='May 3', release_start_dt=datetime.datetime(2025, 5, 8, 12, 30, tzinfo=<blpapi.datetime.FixedOffset object at 0x7f4f12cd8390>), release_end_dt=datetime.datetime(2025, 5, 8, 12, 30, tzinfo=<blpapi.datetime.FixedOffset object at 0x7f4f12cd8390>))\n"
     ]
    }
   ],
   "source": [
    "message = parseHeadlineCalendarEvent(elem.getElement(\"HeadlineCalendarEvent\"))\n",
    "print(message)"
   ]
  },
  {
   "cell_type": "code",
   "execution_count": null,
   "id": "0c7884e8",
   "metadata": {},
   "outputs": [],
   "source": [
    "def headline_calendar_event_to_flatbuffers(builder, event: HeadlineCalendarEvent):\n",
    "    id_bb_global = builder.CreateString(event.id_bb_global or \"\")\n",
    "    parsekyable_des = builder.CreateString(event.parsekyable_des or \"\")\n",
    "    description = builder.CreateString(event.description or \"\")\n",
    "    event_type = builder.CreateString(event.event_type or \"\")\n",
    "    event_subtype = builder.CreateString(event.event_subtype or \"\")\n",
    "    event_id = builder.CreateString(event.event_id or \"\")\n",
    "    observation_period = builder.CreateString(event.observation_period or \"\")\n",
    "\n",
    "    # Convert datetime to timestamp if available\n",
    "    release_start_dt = int(event.release_start_dt.timestamp()) if event.release_start_dt else 0\n",
    "    release_end_dt = int(event.release_end_dt.timestamp()) if event.release_end_dt else 0\n",
    "\n",
    "    # Start building the FlatBuffers object\n",
    "    HeadlineCalendarEvent.Start(builder)\n",
    "    HeadlineCalendarEvent.AddIdBbGlobal(builder, id_bb_global)\n",
    "    HeadlineCalendarEvent.AddParsekyableDes(builder, parsekyable_des)\n",
    "    HeadlineCalendarEvent.AddDescription(builder, description)\n",
    "    HeadlineCalendarEvent.AddEventType(builder, event_type)\n",
    "    HeadlineCalendarEvent.AddEventSubtype(builder, event_subtype)\n",
    "    HeadlineCalendarEvent.AddEventId(builder, event_id)\n",
    "    HeadlineCalendarEvent.AddObservationPeriod(builder, observation_period)\n",
    "    HeadlineCalendarEvent.AddReleaseStartDt(builder, release_start_dt)\n",
    "    HeadlineCalendarEvent.AddReleaseEndDt(builder, release_end_dt)\n",
    "\n",
    "    # Finish the FlatBuffers object\n",
    "    return HeadlineCalendarEvent.End(builder)"
   ]
  },
  {
   "cell_type": "code",
   "execution_count": null,
   "id": "74dcc8d9",
   "metadata": {
    "vscode": {
     "languageId": "lua"
    }
   },
   "outputs": [],
   "source": [
    "builder = flatbuffers.Builder(0)\n",
    "event = HeadlineCalendarEvent(\n",
    "    id_bb_global=\"12345\",\n",
    "    parsekyable_des=\"Test Description\",\n",
    "    description=\"Test Event\",\n",
    "    event_type=\"Test Type\",\n",
    "    event_subtype=\"Test Subtype\",\n",
    "    event_id=\"Test ID\",\n",
    "    observation_period=\"Test Period\",\n",
    "    release_start_dt=datetime.now(),\n",
    "    release_end_dt=datetime.now()\n",
    ")\n",
    "flatbuffers_event = headline_calendar_event_to_flatbuffers(builder, event)\n",
    "builder.Finish(flatbuffers_event)"
   ]
  },
  {
   "cell_type": "code",
   "execution_count": null,
   "id": "4858259b",
   "metadata": {},
   "outputs": [],
   "source": []
  }
 ],
 "metadata": {
  "kernelspec": {
   "display_name": "Python 3 (ipykernel)",
   "language": "python",
   "name": "python3"
  },
  "language_info": {
   "codemirror_mode": {
    "name": "ipython",
    "version": 3
   },
   "file_extension": ".py",
   "mimetype": "text/x-python",
   "name": "python",
   "nbconvert_exporter": "python",
   "pygments_lexer": "ipython3",
   "version": "3.11.11"
  }
 },
 "nbformat": 4,
 "nbformat_minor": 5
}
