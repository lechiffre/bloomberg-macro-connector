{
 "cells": [
  {
   "cell_type": "code",
   "execution_count": 188,
   "id": "722a027d-efd6-467a-b8a8-1403e10e21f1",
   "metadata": {},
   "outputs": [
    {
     "data": {
      "text/plain": [
       "True"
      ]
     },
     "execution_count": 188,
     "metadata": {},
     "output_type": "execute_result"
    }
   ],
   "source": [
    "import os\n",
    "import time\n",
    "import math\n",
    "from datetime import datetime\n",
    "import blpapi\n",
    "import flatbuffers\n",
    "from BlpConn.Message import HeadlineCalendarEvent\n",
    "from BlpConn.Message import HeadlineEconomicEvent\n",
    "from BlpConn.Message.EventType import EventType\n",
    "from dotenv import load_dotenv\n",
    "load_dotenv()"
   ]
  },
  {
   "cell_type": "code",
   "execution_count": 14,
   "id": "f0c71642-0fc5-4494-a01b-d87034cfc203",
   "metadata": {},
   "outputs": [],
   "source": [
    "service = \"//blp/economic-data\""
   ]
  },
  {
   "cell_type": "code",
   "execution_count": 6,
   "id": "e60e59c4-290a-4d2d-9649-0ee9a91cb009",
   "metadata": {},
   "outputs": [],
   "source": [
    "client_cert_path = os.environ[\"CLIENT_CERTIFICATE\"]\n",
    "client_cert_password = os.environ[\"PASSWORD\"]\n",
    "root_cert_path = os.environ[\"ROOT_CERTIFICATE\"]"
   ]
  },
  {
   "cell_type": "code",
   "execution_count": 8,
   "id": "b7bc5e98-c382-40ea-b774-f554731b386b",
   "metadata": {},
   "outputs": [],
   "source": [
    "tls_options = blpapi.TlsOptions.createFromFiles(\n",
    "    client_cert_path,\n",
    "    client_cert_password,\n",
    "    root_cert_path\n",
    ")"
   ]
  },
  {
   "cell_type": "code",
   "execution_count": 10,
   "id": "cd153e44-6a40-4b92-a35f-5fc3bd202059",
   "metadata": {},
   "outputs": [],
   "source": [
    "host_primary = os.environ[\"PRIMARY_HOST\"]\n",
    "host_secondary = os.environ[\"SECONDARY_HOST\"]\n",
    "port = int(os.environ[\"PORT\"])"
   ]
  },
  {
   "cell_type": "code",
   "execution_count": 15,
   "id": "8f1f45bc-17bc-49a1-b4da-c174f1cb3126",
   "metadata": {},
   "outputs": [],
   "source": [
    "session_options = blpapi.SessionOptions()\n",
    "session_options.setServerAddress(host_primary, port, 0)\n",
    "session_options.setServerAddress(host_secondary, port, 0)\n",
    "session_options.setTlsOptions(tls_options)\n",
    "session_options.setAutoRestartOnDisconnection(True)\n",
    "session_options.setNumStartAttempts(3)\n",
    "session_options.setDefaultSubscriptionService(service)"
   ]
  },
  {
   "cell_type": "code",
   "execution_count": 21,
   "id": "63b5ca1d-5dd2-4b97-9e72-985a31272c0f",
   "metadata": {},
   "outputs": [
    {
     "data": {
      "text/plain": [
       "True"
      ]
     },
     "execution_count": 21,
     "metadata": {},
     "output_type": "execute_result"
    }
   ],
   "source": [
    "session = blpapi.Session(session_options)\n",
    "session.start()"
   ]
  },
  {
   "cell_type": "code",
   "execution_count": 22,
   "id": "bbafb0da-67c6-49e6-b53e-78ffc7a7ce0d",
   "metadata": {},
   "outputs": [
    {
     "data": {
      "text/plain": [
       "True"
      ]
     },
     "execution_count": 22,
     "metadata": {},
     "output_type": "execute_result"
    }
   ],
   "source": [
    "session.openService(service)"
   ]
  },
  {
   "cell_type": "code",
   "execution_count": 24,
   "id": "df136cfa-4109-49f3-89d0-2987a519806a",
   "metadata": {},
   "outputs": [],
   "source": [
    "sub = blpapi.SubscriptionList()\n",
    "sub.add(\"//blp/economic-data/headline-actuals/ticker/CATBTOTB Index\")\n",
    "corr_id = session.subscribe(sub)"
   ]
  },
  {
   "cell_type": "code",
   "execution_count": 25,
   "id": "d79c7964-7bf3-4fb1-afbc-171fa144f070",
   "metadata": {},
   "outputs": [
    {
     "data": {
      "text/plain": [
       "<blpapi.event.Event at 0x766570fd7a50>"
      ]
     },
     "execution_count": 25,
     "metadata": {},
     "output_type": "execute_result"
    }
   ],
   "source": [
    "\n",
    "event = session.nextEvent()\n",
    "event"
   ]
  },
  {
   "cell_type": "code",
   "execution_count": 26,
   "id": "499a7751-cd1b-4d98-9828-85eb7be51d0c",
   "metadata": {},
   "outputs": [
    {
     "data": {
      "text/plain": [
       "2"
      ]
     },
     "execution_count": 26,
     "metadata": {},
     "output_type": "execute_result"
    }
   ],
   "source": [
    "event.eventType()"
   ]
  },
  {
   "cell_type": "code",
   "execution_count": 37,
   "id": "660b36c9-1aa2-4ac0-a131-1696448ef200",
   "metadata": {},
   "outputs": [
    {
     "data": {
      "text/plain": [
       "8"
      ]
     },
     "execution_count": 37,
     "metadata": {},
     "output_type": "execute_result"
    }
   ],
   "source": [
    "event = session.nextEvent()\n",
    "event.eventType()"
   ]
  },
  {
   "cell_type": "code",
   "execution_count": 105,
   "id": "6d8557fd-051f-4b31-b96e-43572c5db81f",
   "metadata": {},
   "outputs": [],
   "source": [
    "messages = [msg for msg in event]\n",
    "elem = messages[0].asElement()"
   ]
  },
  {
   "cell_type": "code",
   "execution_count": 204,
   "id": "27aa7af6-cc72-44b6-81ea-480d77254671",
   "metadata": {},
   "outputs": [],
   "source": [
    "def getSringValue(elem: blpapi.Element, name: str):\n",
    "    if elem.hasElement(name):\n",
    "        return elem.getElement(name).getValue(0)\n",
    "    else:\n",
    "        return \"\"\n",
    "\n",
    "\n",
    "def getDateTimeValue(elem: blpapi.Element, name: str):\n",
    "    if not elem.hasElement(name):\n",
    "        return None\n",
    "    return elem.getElement(name).getValue(0)\n",
    "\n",
    "def convertToMicroOffset(dt: datetime):\n",
    "    return {\n",
    "        \"micros\": dt.timestamp(),\n",
    "        \"offset\": 0\n",
    "    }\n",
    "    \n",
    "\n",
    "def getReleaseTime(elem: blpapi.Element, name: str):\n",
    "    if not elem.hasElement(name):\n",
    "        return None\n",
    "    sub_elem = elem.getElement(name)\n",
    "    if sub_elem.hasElement(\"DATETIME\"):\n",
    "        dt = getDateTimeValue(sub_elem, \"DATETIME\")\n",
    "        return {\n",
    "            \"start\": dt,\n",
    "            \"end\": dt\n",
    "        }\n",
    "    elif sub_elem.hasElement(\"DATE\"):\n",
    "        dt = getDateTimeValue(sub_elem, \"DATETIME\")\n",
    "        return {\n",
    "            \"start\": dt,\n",
    "            \"end\": dt\n",
    "        }\n",
    "    elif sub_elem.hasElement(\"DATERANGE\"):\n",
    "        data_range = sub_elem.getElement(\"DATERANGE\")\n",
    "        return {\n",
    "            \"start\": getDateTimeValue(date_range, \"START\"),\n",
    "            \"end\": getDateTimeValue(date_range, \"END\"),\n",
    "        }\n",
    "    return None\n",
    "\n",
    "def getFloatValue(elem: blpapi.Element, name: str):\n",
    "    if not elem.hasElement(name):\n",
    "        return math.nan\n",
    "    return float(elem.getElement(name).getValue(0))\n",
    "\n",
    "def getSingleValue(elem: blpapi.Element):\n",
    "    return {\n",
    "        \"single\": getFloatValue(elem, \"SINGLE\"),\n",
    "    }\n",
    "\n",
    "def getDistributionValue(elem: blpapi.Element, name: str):\n",
    "    return {\n",
    "        \"low\": getFloatValue(elem, \"LOW\"),\n",
    "        \"high\": getFloatValue(elem, \"HIGH\"),\n",
    "        \"median\": getFloatValue(elem, \"MEDIAN\"),\n",
    "        \"average\": getFloatValue(elem, \"AVERAGE\"),\n",
    "        \"standard_deviation\": getFloatValue(elem, \"STANDARD_DEVIATION\"),\n",
    "        \"number\": getFloatValue(elem, \"NUMBER\"),\n",
    "    }\n",
    "\n",
    "def getValue(elem: blpapi.Element, name: str):\n",
    "    if not elem.hasElement(name):\n",
    "        return None\n",
    "    sub_elem = elem.getElement(name)\n",
    "    print(\">>>> \", sub_elem)\n",
    "    if sub_elem.hasElement(\"SINGLE\"):\n",
    "        return getFloatValue(sub_elem, \"SINGLE\")\n",
    "    elif sub_elem.hasElement(\"DISTRIBUTION\"):\n",
    "        return getDistributionValue(sub_elem.getElement(\"DISTRIBUTION\"))\n",
    "    return None\n",
    "\n",
    "def getRevisionMetadata(elem: blpapi.Element, name: str):\n",
    "    if not elem.hasElement(name):\n",
    "        return None\n",
    "    sub_elem = elem.getElement(name)\n",
    "    return {\n",
    "        \"prior_event_id\": sub_elem.getElement(\"PRIOR_EVENT_ID\").getValue(0),\n",
    "        \"prior_observation_period\": getSringValue(sub_elem, \"PRIOR_OBSERVATION_PERIOD\"),\n",
    "        \"prior_economic_release\": getReleaseTime(sub_elem, \"PRIOR_ECONOMIC_RELEASE\"),\n",
    "    }\n",
    "\n",
    "def parseHeadlineEconomicEvent(elem: blpapi.Element):\n",
    "    builder = flatbuffers.Builder()\n",
    "    HeadlineCalendarEvent.Start(builder)\n",
    "    HeadlineEconomicEvent.AddIdBbGlobal(builder.CreateString(getSringValue(elem, \"ID_BB_GLOBAL\")))\n",
    "    HeadlineEconomicEvent.AddParsekyableDes(builder.CreateString(getSringValue(elem, \"PARSEKYABLE_DES\")))\n",
    "    HeadlineEconomicEvent.AddDescription(builder.CreateString(getSringValue(elem, \"DESCRIPTION\")))\n",
    "    HeadlineEconomicEvent.AddEventType(builder.CreateString(getSringValue(elem, \"EVENTYPE\")))\n",
    "    HeadlineEconomicEvent.AddEventSubtype(builder.CreateString(getSringValue(elem, \"EVENT_SUBTYPE\")))\n",
    "    HeadlineEconomicEvent.AddEventId(elem.getElement(\"EVENT_ID\").getValue(0))\n",
    "    HeadlineEconomicEvent.AddObservationPeriod(builder.CreateString(getSringValue(elem, \"OBSERVATION_PERIOD\")))\n",
    "    HeadlineEconomicEvent.End(builder)\n",
    "\n",
    "def parseHeadlineCalendarEvent(elem: blpapi.Element):\n",
    "    return {\n",
    "        \"id_bb_global\": getSringValue(elem, \"ID_BB_GLOBAL\"),\n",
    "        \"parsekyable_des\": getSringValue(elem, \"PARSEKYABLE_DES\"),\n",
    "        \"description\": getSringValue(elem, \"DESCRIPTION\"),\n",
    "        \"event_type\": getSringValue(elem, \"EVENTYPE\"),\n",
    "        \"event_subtype\": getSringValue(elem, \"EVENT_SUBTYPE\"),\n",
    "        \"event_id\": elem.getElement(\"EVENT_ID\").getValue(0),\n",
    "        \"observation_period\": getSringValue(elem, \"OBSERVATION_PERIOD\"),\n",
    "        \"eco_release_dt\": getReleaseTime(elem, \"ECO_RELEASE_DT\"),\n",
    "        \"release_status\": getSringValue(elem, \"RELEASE_STATUS\"),\n",
    "    } \n",
    "\n",
    "def parse_economic_event(elem: blpapi.Element):\n",
    "    if elem.hasElement(\"HeadlineEconomicEvent\"):\n",
    "        return parseHeadlineEconomicEvent(elem.getElement(\"HeadlineEconomicEvent\"))\n",
    "    elif elem.hasElement(\"HeadlineCalendarEvent\"):\n",
    "        return parseHeadlineCalendarEvent(elem.getElement(\"HeadlineCalendarEvent\"))\n",
    "    return None"
   ]
  },
  {
   "cell_type": "code",
   "execution_count": 205,
   "id": "12b88780-9c07-4e8e-835f-ffe94e168e53",
   "metadata": {},
   "outputs": [
    {
     "ename": "IsNestedError",
     "evalue": "",
     "output_type": "error",
     "traceback": [
      "\u001b[31m---------------------------------------------------------------------------\u001b[39m",
      "\u001b[31mIsNestedError\u001b[39m                             Traceback (most recent call last)",
      "\u001b[36mCell\u001b[39m\u001b[36m \u001b[39m\u001b[32mIn[205]\u001b[39m\u001b[32m, line 1\u001b[39m\n\u001b[32m----> \u001b[39m\u001b[32m1\u001b[39m \u001b[38;5;28mprint\u001b[39m(\u001b[43mparse_economic_event\u001b[49m\u001b[43m(\u001b[49m\u001b[43melem\u001b[49m\u001b[43m)\u001b[49m)\n\u001b[32m      2\u001b[39m \u001b[38;5;28mprint\u001b[39m(elem)\n",
      "\u001b[36mCell\u001b[39m\u001b[36m \u001b[39m\u001b[32mIn[204]\u001b[39m\u001b[32m, line 112\u001b[39m, in \u001b[36mparse_economic_event\u001b[39m\u001b[34m(elem)\u001b[39m\n\u001b[32m    110\u001b[39m \u001b[38;5;28;01mdef\u001b[39;00m\u001b[38;5;250m \u001b[39m\u001b[34mparse_economic_event\u001b[39m(elem: blpapi.Element):\n\u001b[32m    111\u001b[39m     \u001b[38;5;28;01mif\u001b[39;00m elem.hasElement(\u001b[33m\"\u001b[39m\u001b[33mHeadlineEconomicEvent\u001b[39m\u001b[33m\"\u001b[39m):\n\u001b[32m--> \u001b[39m\u001b[32m112\u001b[39m         \u001b[38;5;28;01mreturn\u001b[39;00m \u001b[43mparseHeadlineEconomicEvent\u001b[49m\u001b[43m(\u001b[49m\u001b[43melem\u001b[49m\u001b[43m.\u001b[49m\u001b[43mgetElement\u001b[49m\u001b[43m(\u001b[49m\u001b[33;43m\"\u001b[39;49m\u001b[33;43mHeadlineEconomicEvent\u001b[39;49m\u001b[33;43m\"\u001b[39;49m\u001b[43m)\u001b[49m\u001b[43m)\u001b[49m\n\u001b[32m    113\u001b[39m     \u001b[38;5;28;01melif\u001b[39;00m elem.hasElement(\u001b[33m\"\u001b[39m\u001b[33mHeadlineCalendarEvent\u001b[39m\u001b[33m\"\u001b[39m):\n\u001b[32m    114\u001b[39m         \u001b[38;5;28;01mreturn\u001b[39;00m parseHeadlineCalendarEvent(elem.getElement(\u001b[33m\"\u001b[39m\u001b[33mHeadlineCalendarEvent\u001b[39m\u001b[33m\"\u001b[39m))\n",
      "\u001b[36mCell\u001b[39m\u001b[36m \u001b[39m\u001b[32mIn[204]\u001b[39m\u001b[32m, line 88\u001b[39m, in \u001b[36mparseHeadlineEconomicEvent\u001b[39m\u001b[34m(elem)\u001b[39m\n\u001b[32m     86\u001b[39m builder = flatbuffers.Builder()\n\u001b[32m     87\u001b[39m HeadlineCalendarEvent.Start(builder)\n\u001b[32m---> \u001b[39m\u001b[32m88\u001b[39m HeadlineEconomicEvent.AddIdBbGlobal(\u001b[43mbuilder\u001b[49m\u001b[43m.\u001b[49m\u001b[43mCreateString\u001b[49m\u001b[43m(\u001b[49m\u001b[43mgetSringValue\u001b[49m\u001b[43m(\u001b[49m\u001b[43melem\u001b[49m\u001b[43m,\u001b[49m\u001b[43m \u001b[49m\u001b[33;43m\"\u001b[39;49m\u001b[33;43mID_BB_GLOBAL\u001b[39;49m\u001b[33;43m\"\u001b[39;49m\u001b[43m)\u001b[49m\u001b[43m)\u001b[49m)\n\u001b[32m     89\u001b[39m HeadlineEconomicEvent.AddParsekyableDes(builder.CreateString(getSringValue(elem, \u001b[33m\"\u001b[39m\u001b[33mPARSEKYABLE_DES\u001b[39m\u001b[33m\"\u001b[39m)))\n\u001b[32m     90\u001b[39m HeadlineEconomicEvent.AddDescription(builder.CreateString(getSringValue(elem, \u001b[33m\"\u001b[39m\u001b[33mDESCRIPTION\u001b[39m\u001b[33m\"\u001b[39m)))\n",
      "\u001b[36mFile \u001b[39m\u001b[32m~/devel/li/bloomberg-geco-connector/vrs/python/.venv/lib/python3.11/site-packages/flatbuffers/builder.py:441\u001b[39m, in \u001b[36mBuilder.CreateString\u001b[39m\u001b[34m(self, s, encoding, errors)\u001b[39m\n\u001b[32m    438\u001b[39m \u001b[38;5;28;01mdef\u001b[39;00m\u001b[38;5;250m \u001b[39m\u001b[34mCreateString\u001b[39m(\u001b[38;5;28mself\u001b[39m, s, encoding=\u001b[33m'\u001b[39m\u001b[33mutf-8\u001b[39m\u001b[33m'\u001b[39m, errors=\u001b[33m'\u001b[39m\u001b[33mstrict\u001b[39m\u001b[33m'\u001b[39m):\n\u001b[32m    439\u001b[39m \u001b[38;5;250m    \u001b[39m\u001b[33;03m\"\"\"CreateString writes a null-terminated byte string as a vector.\"\"\"\u001b[39;00m\n\u001b[32m--> \u001b[39m\u001b[32m441\u001b[39m     \u001b[38;5;28;43mself\u001b[39;49m\u001b[43m.\u001b[49m\u001b[43massertNotNested\u001b[49m\u001b[43m(\u001b[49m\u001b[43m)\u001b[49m\n\u001b[32m    442\u001b[39m     \u001b[38;5;66;03m## @cond FLATBUFFERS_INTERNAL\u001b[39;00m\n\u001b[32m    443\u001b[39m     \u001b[38;5;28mself\u001b[39m.nested = \u001b[38;5;28;01mTrue\u001b[39;00m\n",
      "\u001b[36mFile \u001b[39m\u001b[32m~/devel/li/bloomberg-geco-connector/vrs/python/.venv/lib/python3.11/site-packages/flatbuffers/builder.py:539\u001b[39m, in \u001b[36mBuilder.assertNotNested\u001b[39m\u001b[34m(self)\u001b[39m\n\u001b[32m    533\u001b[39m \u001b[38;5;250m\u001b[39m\u001b[33;03m\"\"\"\u001b[39;00m\n\u001b[32m    534\u001b[39m \u001b[33;03mCheck that no other objects are being built while making this\u001b[39;00m\n\u001b[32m    535\u001b[39m \u001b[33;03mobject. If not, raise an exception.\u001b[39;00m\n\u001b[32m    536\u001b[39m \u001b[33;03m\"\"\"\u001b[39;00m\n\u001b[32m    538\u001b[39m \u001b[38;5;28;01mif\u001b[39;00m \u001b[38;5;28mself\u001b[39m.nested:\n\u001b[32m--> \u001b[39m\u001b[32m539\u001b[39m     \u001b[38;5;28;01mraise\u001b[39;00m IsNestedError()\n",
      "\u001b[31mIsNestedError\u001b[39m: "
     ]
    }
   ],
   "source": [
    "print(parse_economic_event(elem))\n",
    "print(elem)"
   ]
  },
  {
   "cell_type": "code",
   "execution_count": 98,
   "id": "b54c4f71-1d06-405e-94be-10f7cfab82bb",
   "metadata": {},
   "outputs": [
    {
     "data": {
      "text/plain": [
       "True"
      ]
     },
     "execution_count": 98,
     "metadata": {},
     "output_type": "execute_result"
    }
   ],
   "source": [
    "et == blpapi.Name('ACTUAL')"
   ]
  },
  {
   "cell_type": "code",
   "execution_count": null,
   "id": "dfa871bb-1792-4b3f-ae13-818c33da359e",
   "metadata": {},
   "outputs": [],
   "source": [
    "HeadlineCalendarEvent.HeadlineCalendarEventStart"
   ]
  },
  {
   "cell_type": "code",
   "execution_count": 174,
   "id": "4163a9f3-66c3-422d-bf7e-bb4c23233d84",
   "metadata": {},
   "outputs": [],
   "source": [
    "ee = EconomicEvent()\n",
    "ee."
   ]
  },
  {
   "cell_type": "code",
   "execution_count": null,
   "id": "6b476dfc-96be-4741-9820-6cc40c7493d2",
   "metadata": {},
   "outputs": [],
   "source": []
  }
 ],
 "metadata": {
  "kernelspec": {
   "display_name": "Python 3 (ipykernel)",
   "language": "python",
   "name": "python3"
  },
  "language_info": {
   "codemirror_mode": {
    "name": "ipython",
    "version": 3
   },
   "file_extension": ".py",
   "mimetype": "text/x-python",
   "name": "python",
   "nbconvert_exporter": "python",
   "pygments_lexer": "ipython3",
   "version": "3.11.11"
  }
 },
 "nbformat": 4,
 "nbformat_minor": 5
}
